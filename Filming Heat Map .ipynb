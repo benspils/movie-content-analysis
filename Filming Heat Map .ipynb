{
 "cells": [
  {
   "cell_type": "code",
   "execution_count": 1,
   "metadata": {},
   "outputs": [],
   "source": [
    "import numpy as np \n",
    "import pandas as pd \n",
    "import gmaps \n",
    "import gmaps.datasets "
   ]
  },
  {
   "cell_type": "code",
   "execution_count": 10,
   "metadata": {},
   "outputs": [
    {
     "data": {
      "text/plain": [
       "[]"
      ]
     },
     "execution_count": 10,
     "metadata": {},
     "output_type": "execute_result"
    }
   ],
   "source": [
    "import requests\n",
    "import sys\n",
    "import numpy as np\n",
    "import time\n",
    "from bs4 import BeautifulSoup\n",
    "# film_name_list=list(master_table.title.replace(' ','-'))\n",
    "# for movie in film_name_list:\n",
    "#     id='main'\n",
    "page = requests.get('https://www.movie-locations.com/movies/d/Dark-Knight.php')\n",
    "soup = BeautifulSoup(page.content, 'html.parser')\n",
    "ratings=soup.find(id=\"main\", class_='creditsnav')\n",
    "#     try:\n",
    "#         rate=ratings.find_all(class_=\"txt-block\")[1].text.strip()\n",
    "#         #ratings_list.append(rate.split(\"\\n\")[1])\n",
    "#         ratings_list.append(rate.split(\"\\n\"))\n",
    "#         time.sleep(.01)\n",
    "#     except:\n",
    "#         rate=ratings.find_all(class_=\"txt-block\")[0].text.strip()\n",
    "#         #ratings_list.append(rate.split(\"\\n\")[1])\n",
    "#         ratings_list.append(rate.split(\"\\n\"))\n",
    "#         time.sleep(.01)\n",
    "# rate=ratings.find_all(class_=\"creditsnav\"['a']).text\n",
    "mydivs = soup.find_all(\"a\", class_=\"creditsnav\")\n",
    "mydivs"
   ]
  },
  {
   "cell_type": "code",
   "execution_count": null,
   "metadata": {},
   "outputs": [],
   "source": []
  }
 ],
 "metadata": {
  "kernelspec": {
   "display_name": "learn-env",
   "language": "python",
   "name": "learn-env"
  },
  "language_info": {
   "codemirror_mode": {
    "name": "ipython",
    "version": 3
   },
   "file_extension": ".py",
   "mimetype": "text/x-python",
   "name": "python",
   "nbconvert_exporter": "python",
   "pygments_lexer": "ipython3",
   "version": "3.6.9"
  }
 },
 "nbformat": 4,
 "nbformat_minor": 4
}
