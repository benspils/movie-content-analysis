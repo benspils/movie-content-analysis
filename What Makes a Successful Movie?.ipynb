{
 "cells": [
  {
   "cell_type": "code",
   "execution_count": 1,
   "metadata": {},
   "outputs": [],
   "source": [
    "import os\n",
    "import pandas as pd "
   ]
  },
  {
   "cell_type": "code",
   "execution_count": 2,
   "metadata": {},
   "outputs": [
    {
     "data": {
      "text/plain": [
       "['data/zippedData/imdb.title.crew.csv.gz',\n",
       " 'data/zippedData/tmdb.movies.csv.gz',\n",
       " 'data/zippedData/imdb.title.akas.csv.gz',\n",
       " 'data/zippedData/imdb.title.ratings.csv.gz',\n",
       " 'data/zippedData/imdb.name.basics.csv.gz',\n",
       " 'data/zippedData/rt.reviews.tsv.gz',\n",
       " 'data/zippedData/imdb.title.basics.csv.gz',\n",
       " 'data/zippedData/rt.movie_info.tsv.gz',\n",
       " 'data/zippedData/tn.movie_budgets.csv.gz',\n",
       " 'data/zippedData/bom.movie_gross.csv.gz',\n",
       " 'data/zippedData/imdb.title.principals.csv.gz']"
      ]
     },
     "execution_count": 2,
     "metadata": {},
     "output_type": "execute_result"
    }
   ],
   "source": [
    "data_path = os.path.join('data','zippedData')\n",
    "data_files = os.listdir(data_path)\n",
    "data_files.pop(data_files.index('.ipynb_checkpoints'))\n",
    "data_files.pop(data_files.index('Untitled.ipynb'))\n",
    "data_files = [os.path.join(data_path,file) for file in data_files]\n",
    "data_files"
   ]
  },
  {
   "cell_type": "code",
   "execution_count": 3,
   "metadata": {},
   "outputs": [
    {
     "name": "stdout",
     "output_type": "stream",
     "text": [
      "data/zippedData/rt.reviews.tsv.gz\n",
      "data/zippedData/rt.movie_info.tsv.gz\n"
     ]
    }
   ],
   "source": [
    "data = {}\n",
    "name_dict={'imdb.title.crew.csv.gz':\"crew\",\n",
    "           'tmdb.movies.csv.gz':\"movies\",\n",
    "           'imdb.title.akas.csv.gz':\"akas\",\n",
    "           'imdb.title.ratings.csv.gz':\"ratings\",\n",
    "           'imdb.name.basics.csv.gz':\"name_basics\",\n",
    "           'rt.reviews.tsv.gz':\"reviews\",\n",
    "           'imdb.title.basics.csv.gz':\"title_basics\",\n",
    "           'rt.movie_info.tsv.gz':\"movie_info\",\n",
    "           'tn.movie_budgets.csv.gz':\"movie_budgets\",\n",
    "           'bom.movie_gross.csv.gz':\"movie_gross\",\n",
    "           'imdb.title.principals.csv.gz':\"principals\"\n",
    "          }\n",
    "for file in data_files:\n",
    "    try:\n",
    "        df = pd.read_csv(file)\n",
    "    except:\n",
    "        print(file)\n",
    "        continue\n",
    "    file_name = file.split('/')[-1]\n",
    "    data[name_dict[file_name]] = df\n",
    "    \n",
    "data[\"movie_info\"]=pd.read_csv('data/zippedData/rt.movie_info.tsv.gz', sep=\"\\t\")\n",
    "data[\"reviews\"]=pd.read_csv('data/zippedData/rt.reviews.tsv.gz', sep=\"\\t\", encoding=\"latin1\")"
   ]
  },
  {
   "cell_type": "code",
   "execution_count": 4,
   "metadata": {},
   "outputs": [
    {
     "data": {
      "text/plain": [
       "dict_keys(['crew', 'movies', 'akas', 'ratings', 'name_basics', 'title_basics', 'movie_budgets', 'movie_gross', 'principals', 'movie_info', 'reviews'])"
      ]
     },
     "execution_count": 4,
     "metadata": {},
     "output_type": "execute_result"
    }
   ],
   "source": [
    "data.keys()"
   ]
  },
  {
   "cell_type": "code",
   "execution_count": null,
   "metadata": {},
   "outputs": [],
   "source": [
    "data['']"
   ]
  },
  {
   "cell_type": "code",
   "execution_count": 5,
   "metadata": {},
   "outputs": [],
   "source": [
    "imdb_top_25 = ['The Shawshank Redemption','The Dark Knight','Pulp Fiction',\"Schindler's List\",\"The Lord of the Rings: The Return of the King\",\"Inception\",\"The Lord of the Rings: The Fellowship of the Ring\",\"Fight Club\",\"Forrest Gump\",\"Goodfellas\",\"The Matrix\",\"The Lord of the Rings: The Two Towers\",\"Interstellar\",\"Se7ev\",\"Leon: The Professional\",\"The Silence of the Lambs\",\"Saving Private Ryan\",\"The Usual Suspects\",\"Spirited Away\",\"City of God\"]"
   ]
  },
  {
   "cell_type": "code",
   "execution_count": 6,
   "metadata": {},
   "outputs": [],
   "source": [
    "bbc_top_25 = [\"Mulholland Drive\",\"In the Mood for Love\",\"There Will Be Blood\",\"Spirited Away\",\"Boyhood\",\"Eternal Sunshine of the Spotless Mind\",\"The Tree of Life\",\"Yi Yi\",\"A Separation\",\"No Country for Old Men\",\"Inside Llewyn Davis\",\"Zodiac\",\"Children of Men\",\"The Act of Killing\",\"4 Months, 3 Weeks and 2 Days\",\"Holy Motors\",\"Pan's Labyrinth\",\"The White Ribbon\",\"Mad Max: Fury Road\",\"Synecdoche, New York\",\"The Grand Budapest Hotel\",\"Lost in Translation\",\"Cache\",\"The Master\",\"Memento\"]"
   ]
  },
  {
   "cell_type": "code",
   "execution_count": 7,
   "metadata": {},
   "outputs": [],
   "source": [
    "theguardian_top_25 = [\"There Will Be Blood\",\"12 Years a Slave\",\"Boyhood\",\"Under the Skin\",\"In the Mood for Love\",\"Hidden\",\"Synecdoche, New York\",\"Moonlight\",\"Zama\",\"Team America: World Police\",\"Mulholland Drive\",\"Son of Saul\",\"Far From Heaven\",\"White Material\",\"Shoplifters\",\"The Act of Killing\",\"The Great Beauty\",\"A Serious Man\",\"Lincoln\",\"Roma\",\"The White Ribbon\",\"Spirited Away\",\"Borat: Cultural Learnings of America for Make Benefit Glorious Nation of Kazakhstan\",\"Ida\",\"Get Out\"]"
   ]
  },
  {
   "cell_type": "code",
   "execution_count": 14,
   "metadata": {},
   "outputs": [],
   "source": [
    "nytimes_top_25 = [\"There Will Be Blood\",\"Spirited Away\",\"Million Dollar Baby\",\"A Touch of Sin\",\"The Death of Mr. Lazarescu\",\"Yi Yi\",\"Inside Out\",\"Boyhood\",\"Summer Hours\",\"The Hurt Locker\",\"Inside Llewyn Davis\",\"Timbuktu\",\"In Jackson Heights\",\"L'Enfant\",\"White Material\",\"Munich\",\"Three Times\",\"The Gleaners and I\",\"Mad Max: Fury Road\",\"Moonlight\",\"Wendy and Lucy\",\"I'm Not There\",\"Silent Light\",\"Eternal Sunshine of the Spotless Mind\",\"The 40-Year-Old Virgin\"]"
   ]
  },
  {
   "cell_type": "code",
   "execution_count": 15,
   "metadata": {},
   "outputs": [],
   "source": [
    "mericamag_top_25 = [\"Good Will Hunting\",\"Saving Private Ryan\",\"In the Mood for Love\",\"Spirited Away\",\"Eternal Sunshine of the Spotless Mind\",\"Into Great Silence\",\"Pan's Labyrinth\",\"There Will Be Blood\",\"Of Gods and Men\",\"The Tree of Life\",\"Amour\",\"12 Years a Slave\",\"Her\",\"Grand Budapest Hotel\",\"Birdman or (The Unexpected Virtue of Ignorance)\",\"Son of Saul\",\"Silence\",\"Get Out\",\"Coco\",\"Lady Bird\",\"BlacKkKlansman\",\"Roma\",\"Parasite\"]"
   ]
  },
  {
   "cell_type": "code",
   "execution_count": 19,
   "metadata": {},
   "outputs": [],
   "source": [
    "top_25_w_duplicates = imdb_top_25+bbc_top_25+theguardian_top_25+nytimes_top_25+mericamag_top_25"
   ]
  },
  {
   "cell_type": "code",
   "execution_count": 20,
   "metadata": {},
   "outputs": [],
   "source": [
    "top_25_set = set(imdb_top_25+bbc_top_25+theguardian_top_25+nytimes_top_25+mericamag_top_25)"
   ]
  },
  {
   "cell_type": "code",
   "execution_count": 24,
   "metadata": {},
   "outputs": [],
   "source": [
    "top_w_value_counts = {i:top_25_w_duplicates.count(i) for i in top_25_w_duplicates}"
   ]
  },
  {
   "cell_type": "code",
   "execution_count": 25,
   "metadata": {},
   "outputs": [
    {
     "data": {
      "text/plain": [
       "{'The Shawshank Redemption': 1,\n",
       " 'The Dark Knight': 1,\n",
       " 'Pulp Fiction': 1,\n",
       " \"Schindler's List\": 1,\n",
       " 'The Lord of the Rings: The Return of the King': 1,\n",
       " 'Inception': 1,\n",
       " 'The Lord of the Rings: The Fellowship of the Ring': 1,\n",
       " 'Fight Club': 1,\n",
       " 'Forrest Gump': 1,\n",
       " 'Goodfellas': 1,\n",
       " 'The Matrix': 1,\n",
       " 'The Lord of the Rings: The Two Towers': 1,\n",
       " 'Interstellar': 1,\n",
       " 'Se7ev': 1,\n",
       " 'Leon: The Professional': 1,\n",
       " 'The Silence of the Lambs': 1,\n",
       " 'Saving Private Ryan': 2,\n",
       " 'The Usual Suspects': 1,\n",
       " 'Spirited Away': 5,\n",
       " 'City of God': 1,\n",
       " 'Mulholland Drive': 2,\n",
       " 'In the Mood for Love': 3,\n",
       " 'There Will Be Blood': 4,\n",
       " 'Boyhood': 3,\n",
       " 'Eternal Sunshine of the Spotless Mind': 3,\n",
       " 'The Tree of Life': 2,\n",
       " 'Yi Yi': 2,\n",
       " 'A Separation': 1,\n",
       " 'No Country for Old Men': 1,\n",
       " 'Inside Llewyn Davis': 2,\n",
       " 'Zodiac': 1,\n",
       " 'Children of Men': 1,\n",
       " 'The Act of Killing': 2,\n",
       " '4 Months, 3 Weeks and 2 Days': 1,\n",
       " 'Holy Motors': 1,\n",
       " \"Pan's Labyrinth\": 2,\n",
       " 'The White Ribbon': 2,\n",
       " 'Mad Max: Fury Road': 2,\n",
       " 'Synecdoche, New York': 2,\n",
       " 'The Grand Budapest Hotel': 1,\n",
       " 'Lost in Translation': 1,\n",
       " 'Cache': 1,\n",
       " 'The Master': 1,\n",
       " 'Memento': 1,\n",
       " '12 Years a Slave': 2,\n",
       " 'Under the Skin': 1,\n",
       " 'Hidden': 1,\n",
       " 'Moonlight': 2,\n",
       " 'Zama': 1,\n",
       " 'Team America: World Police': 1,\n",
       " 'Son of Saul': 2,\n",
       " 'Far From Heaven': 1,\n",
       " 'White Material': 2,\n",
       " 'Shoplifters': 1,\n",
       " 'The Great Beauty': 1,\n",
       " 'A Serious Man': 1,\n",
       " 'Lincoln': 1,\n",
       " 'Roma': 2,\n",
       " 'Borat: Cultural Learnings of America for Make Benefit Glorious Nation of Kazakhstan': 1,\n",
       " 'Ida': 1,\n",
       " 'Get Out': 2,\n",
       " 'Million Dollar Baby': 1,\n",
       " 'A Touch of Sin': 1,\n",
       " 'The Death of Mr. Lazarescu': 1,\n",
       " 'Inside Out': 1,\n",
       " 'Summer Hours': 1,\n",
       " 'The Hurt Locker': 1,\n",
       " 'Timbuktu': 1,\n",
       " 'In Jackson Heights': 1,\n",
       " \"L'Enfant\": 1,\n",
       " 'Munich': 1,\n",
       " 'Three Times': 1,\n",
       " 'The Gleaners and I': 1,\n",
       " 'Wendy and Lucy': 1,\n",
       " \"I'm Not There\": 1,\n",
       " 'Silent Light': 1,\n",
       " 'The 40-Year-Old Virgin': 1,\n",
       " 'Good Will Hunting': 1,\n",
       " 'Into Great Silence': 1,\n",
       " 'Of Gods and Men': 1,\n",
       " 'Amour': 1,\n",
       " 'Her': 1,\n",
       " 'Grand Budapest Hotel': 1,\n",
       " 'Birdman or (The Unexpected Virtue of Ignorance)': 1,\n",
       " 'Silence': 1,\n",
       " 'Coco': 1,\n",
       " 'Lady Bird': 1,\n",
       " 'BlacKkKlansman': 1,\n",
       " 'Parasite': 1}"
      ]
     },
     "execution_count": 25,
     "metadata": {},
     "output_type": "execute_result"
    }
   ],
   "source": [
    "top_w_value_counts"
   ]
  },
  {
   "cell_type": "code",
   "execution_count": 27,
   "metadata": {},
   "outputs": [
    {
     "data": {
      "text/plain": [
       "[('Spirited Away', 5),\n",
       " ('There Will Be Blood', 4),\n",
       " ('In the Mood for Love', 3),\n",
       " ('Boyhood', 3),\n",
       " ('Eternal Sunshine of the Spotless Mind', 3),\n",
       " ('Saving Private Ryan', 2),\n",
       " ('Mulholland Drive', 2),\n",
       " ('The Tree of Life', 2),\n",
       " ('Yi Yi', 2),\n",
       " ('Inside Llewyn Davis', 2),\n",
       " ('The Act of Killing', 2),\n",
       " (\"Pan's Labyrinth\", 2),\n",
       " ('The White Ribbon', 2),\n",
       " ('Mad Max: Fury Road', 2),\n",
       " ('Synecdoche, New York', 2),\n",
       " ('12 Years a Slave', 2),\n",
       " ('Moonlight', 2),\n",
       " ('Son of Saul', 2),\n",
       " ('White Material', 2),\n",
       " ('Roma', 2),\n",
       " ('Get Out', 2),\n",
       " ('The Shawshank Redemption', 1),\n",
       " ('The Dark Knight', 1),\n",
       " ('Pulp Fiction', 1),\n",
       " (\"Schindler's List\", 1),\n",
       " ('The Lord of the Rings: The Return of the King', 1),\n",
       " ('Inception', 1),\n",
       " ('The Lord of the Rings: The Fellowship of the Ring', 1),\n",
       " ('Fight Club', 1),\n",
       " ('Forrest Gump', 1),\n",
       " ('Goodfellas', 1),\n",
       " ('The Matrix', 1),\n",
       " ('The Lord of the Rings: The Two Towers', 1),\n",
       " ('Interstellar', 1),\n",
       " ('Se7ev', 1),\n",
       " ('Leon: The Professional', 1),\n",
       " ('The Silence of the Lambs', 1),\n",
       " ('The Usual Suspects', 1),\n",
       " ('City of God', 1),\n",
       " ('A Separation', 1),\n",
       " ('No Country for Old Men', 1),\n",
       " ('Zodiac', 1),\n",
       " ('Children of Men', 1),\n",
       " ('4 Months, 3 Weeks and 2 Days', 1),\n",
       " ('Holy Motors', 1),\n",
       " ('The Grand Budapest Hotel', 1),\n",
       " ('Lost in Translation', 1),\n",
       " ('Cache', 1),\n",
       " ('The Master', 1),\n",
       " ('Memento', 1),\n",
       " ('Under the Skin', 1),\n",
       " ('Hidden', 1),\n",
       " ('Zama', 1),\n",
       " ('Team America: World Police', 1),\n",
       " ('Far From Heaven', 1),\n",
       " ('Shoplifters', 1),\n",
       " ('The Great Beauty', 1),\n",
       " ('A Serious Man', 1),\n",
       " ('Lincoln', 1),\n",
       " ('Borat: Cultural Learnings of America for Make Benefit Glorious Nation of Kazakhstan',\n",
       "  1),\n",
       " ('Ida', 1),\n",
       " ('Million Dollar Baby', 1),\n",
       " ('A Touch of Sin', 1),\n",
       " ('The Death of Mr. Lazarescu', 1),\n",
       " ('Inside Out', 1),\n",
       " ('Summer Hours', 1),\n",
       " ('The Hurt Locker', 1),\n",
       " ('Timbuktu', 1),\n",
       " ('In Jackson Heights', 1),\n",
       " (\"L'Enfant\", 1),\n",
       " ('Munich', 1),\n",
       " ('Three Times', 1),\n",
       " ('The Gleaners and I', 1),\n",
       " ('Wendy and Lucy', 1),\n",
       " (\"I'm Not There\", 1),\n",
       " ('Silent Light', 1),\n",
       " ('The 40-Year-Old Virgin', 1),\n",
       " ('Good Will Hunting', 1),\n",
       " ('Into Great Silence', 1),\n",
       " ('Of Gods and Men', 1),\n",
       " ('Amour', 1),\n",
       " ('Her', 1),\n",
       " ('Grand Budapest Hotel', 1),\n",
       " ('Birdman or (The Unexpected Virtue of Ignorance)', 1),\n",
       " ('Silence', 1),\n",
       " ('Coco', 1),\n",
       " ('Lady Bird', 1),\n",
       " ('BlacKkKlansman', 1),\n",
       " ('Parasite', 1)]"
      ]
     },
     "execution_count": 27,
     "metadata": {},
     "output_type": "execute_result"
    }
   ],
   "source": [
    "sorted_top_25 = sorted(top_w_value_counts.items(), key=lambda x: x[1], reverse=True)\n",
    "\n",
    "sorted_top_25"
   ]
  },
  {
   "cell_type": "code",
   "execution_count": 40,
   "metadata": {},
   "outputs": [],
   "source": [
    "movie_budgets_df_top_25 = data['movie_budgets'][data['movie_budgets'].movie.isin(top_25_set)]"
   ]
  },
  {
   "cell_type": "code",
   "execution_count": 41,
   "metadata": {},
   "outputs": [],
   "source": [
    "title_basics_df_top_25 = data['title_basics'][data['title_basics'].primary_title.isin(top_25_set)]"
   ]
  },
  {
   "cell_type": "code",
   "execution_count": 43,
   "metadata": {},
   "outputs": [],
   "source": [
    "movies_df_top_25 = data['movies'][data['movies'].title.isin(top_25_set)]"
   ]
  },
  {
   "cell_type": "code",
   "execution_count": 46,
   "metadata": {},
   "outputs": [],
   "source": [
    "movies_gross_df_top_25 = data['movie_gross'][data['movie_gross'].title.isin(top_25_set)]"
   ]
  },
  {
   "cell_type": "code",
   "execution_count": 79,
   "metadata": {},
   "outputs": [],
   "source": [
    "movie_budgets_df_top_25 = movie_budgets_df_top_25.reset_index()"
   ]
  },
  {
   "cell_type": "code",
   "execution_count": 82,
   "metadata": {},
   "outputs": [],
   "source": [
    "movie_budgets_df_top_25 = movie_budgets_df_top_25.rename(columns={'movie':'title'})"
   ]
  },
  {
   "cell_type": "code",
   "execution_count": 83,
   "metadata": {},
   "outputs": [],
   "source": [
    "title_basics_df_top_25 = title_basics_df_top_25.reset_index()"
   ]
  },
  {
   "cell_type": "code",
   "execution_count": 86,
   "metadata": {},
   "outputs": [],
   "source": [
    "title_basics_df_top_25 = title_basics_df_top_25.rename(columns={'primary_title':'title'})"
   ]
  },
  {
   "cell_type": "code",
   "execution_count": 87,
   "metadata": {},
   "outputs": [],
   "source": [
    "movies_gross_df_top_25 = movies_gross_df_top_25.reset_index()"
   ]
  },
  {
   "cell_type": "code",
   "execution_count": 88,
   "metadata": {},
   "outputs": [
    {
     "data": {
      "text/html": [
       "<div>\n",
       "<style scoped>\n",
       "    .dataframe tbody tr th:only-of-type {\n",
       "        vertical-align: middle;\n",
       "    }\n",
       "\n",
       "    .dataframe tbody tr th {\n",
       "        vertical-align: top;\n",
       "    }\n",
       "\n",
       "    .dataframe thead th {\n",
       "        text-align: right;\n",
       "    }\n",
       "</style>\n",
       "<table border=\"1\" class=\"dataframe\">\n",
       "  <thead>\n",
       "    <tr style=\"text-align: right;\">\n",
       "      <th></th>\n",
       "      <th>title</th>\n",
       "      <th>studio</th>\n",
       "      <th>domestic_gross</th>\n",
       "      <th>foreign_gross</th>\n",
       "      <th>year</th>\n",
       "    </tr>\n",
       "  </thead>\n",
       "  <tbody>\n",
       "    <tr>\n",
       "      <th>0</th>\n",
       "      <td>Inception</td>\n",
       "      <td>WB</td>\n",
       "      <td>292600000.0</td>\n",
       "      <td>535700000</td>\n",
       "      <td>2010</td>\n",
       "    </tr>\n",
       "    <tr>\n",
       "      <th>1</th>\n",
       "      <td>The Tree of Life</td>\n",
       "      <td>FoxS</td>\n",
       "      <td>13300000.0</td>\n",
       "      <td>41000000</td>\n",
       "      <td>2011</td>\n",
       "    </tr>\n",
       "    <tr>\n",
       "      <th>2</th>\n",
       "      <td>Of Gods and Men</td>\n",
       "      <td>SPC</td>\n",
       "      <td>4000000.0</td>\n",
       "      <td>38200000</td>\n",
       "      <td>2011</td>\n",
       "    </tr>\n",
       "    <tr>\n",
       "      <th>3</th>\n",
       "      <td>A Separation</td>\n",
       "      <td>SPC</td>\n",
       "      <td>7100000.0</td>\n",
       "      <td>12800000</td>\n",
       "      <td>2011</td>\n",
       "    </tr>\n",
       "    <tr>\n",
       "      <th>4</th>\n",
       "      <td>Lincoln</td>\n",
       "      <td>BV</td>\n",
       "      <td>182200000.0</td>\n",
       "      <td>93100000</td>\n",
       "      <td>2012</td>\n",
       "    </tr>\n",
       "  </tbody>\n",
       "</table>\n",
       "</div>"
      ],
      "text/plain": [
       "              title studio  domestic_gross foreign_gross  year\n",
       "0         Inception     WB     292600000.0     535700000  2010\n",
       "1  The Tree of Life   FoxS      13300000.0      41000000  2011\n",
       "2   Of Gods and Men    SPC       4000000.0      38200000  2011\n",
       "3      A Separation    SPC       7100000.0      12800000  2011\n",
       "4           Lincoln     BV     182200000.0      93100000  2012"
      ]
     },
     "execution_count": 88,
     "metadata": {},
     "output_type": "execute_result"
    }
   ],
   "source": [
    "movies_gross_df_top_25.head()"
   ]
  }
 ],
 "metadata": {
  "kernelspec": {
   "display_name": "learn-env",
   "language": "python",
   "name": "learn-env"
  },
  "language_info": {
   "codemirror_mode": {
    "name": "ipython",
    "version": 3
   },
   "file_extension": ".py",
   "mimetype": "text/x-python",
   "name": "python",
   "nbconvert_exporter": "python",
   "pygments_lexer": "ipython3",
   "version": "3.6.9"
  }
 },
 "nbformat": 4,
 "nbformat_minor": 4
}
