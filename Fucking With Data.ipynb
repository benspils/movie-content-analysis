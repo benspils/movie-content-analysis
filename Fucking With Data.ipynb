{
 "cells": [
  {
   "cell_type": "code",
   "execution_count": 2,
   "metadata": {},
   "outputs": [],
   "source": [
    "import os\n",
    "import pandas as pd "
   ]
  },
  {
   "cell_type": "code",
   "execution_count": 3,
   "metadata": {
    "scrolled": false
   },
   "outputs": [
    {
     "data": {
      "text/plain": [
       "['data/zippedData/imdb.title.crew.csv.gz',\n",
       " 'data/zippedData/tmdb.movies.csv.gz',\n",
       " 'data/zippedData/imdb.title.akas.csv.gz',\n",
       " 'data/zippedData/imdb.title.ratings.csv.gz',\n",
       " 'data/zippedData/imdb.name.basics.csv.gz',\n",
       " 'data/zippedData/rt.reviews.tsv.gz',\n",
       " 'data/zippedData/imdb.title.basics.csv.gz',\n",
       " 'data/zippedData/rt.movie_info.tsv.gz',\n",
       " 'data/zippedData/tn.movie_budgets.csv.gz',\n",
       " 'data/zippedData/bom.movie_gross.csv.gz',\n",
       " 'data/zippedData/imdb.title.principals.csv.gz']"
      ]
     },
     "execution_count": 3,
     "metadata": {},
     "output_type": "execute_result"
    }
   ],
   "source": [
    "data_path = os.path.join('data','zippedData')\n",
    "data_files = os.listdir(data_path)\n",
    "data_files.pop(data_files.index('.ipynb_checkpoints'))\n",
    "data_files.pop(data_files.index('Untitled.ipynb'))\n",
    "data_files = [os.path.join(data_path,file) for file in data_files]\n",
    "data_files"
   ]
  },
  {
   "cell_type": "code",
   "execution_count": 4,
   "metadata": {},
   "outputs": [
    {
     "name": "stdout",
     "output_type": "stream",
     "text": [
      "data/zippedData/rt.reviews.tsv.gz\n",
      "data/zippedData/rt.movie_info.tsv.gz\n"
     ]
    }
   ],
   "source": [
    "data = {}\n",
    "name_dict={'imdb.title.crew.csv.gz':\"crew\",\n",
    "           'tmdb.movies.csv.gz':\"movies\",\n",
    "           'imdb.title.akas.csv.gz':\"akas\",\n",
    "           'imdb.title.ratings.csv.gz':\"ratings\",\n",
    "           'imdb.name.basics.csv.gz':\"name_basics\",\n",
    "           'rt.reviews.tsv.gz':\"reviews\",\n",
    "           'imdb.title.basics.csv.gz':\"title_basics\",\n",
    "           'rt.movie_info.tsv.gz':\"movie_info\",\n",
    "           'tn.movie_budgets.csv.gz':\"movie_budgets\",\n",
    "           'bom.movie_gross.csv.gz':\"movie_gross\",\n",
    "           'imdb.title.principals.csv.gz':\"principals\"\n",
    "          }\n",
    "for file in data_files:\n",
    "    try:\n",
    "        df = pd.read_csv(file)\n",
    "    except:\n",
    "        print(file)\n",
    "        continue\n",
    "    file_name = file.split('/')[-1]\n",
    "    data[name_dict[file_name]] = df\n",
    "    \n",
    "data[\"movie_info\"]=pd.read_csv('data/zippedData/rt.movie_info.tsv.gz', sep=\"\\t\")\n",
    "data[\"reviews\"]=pd.read_csv('data/zippedData/rt.reviews.tsv.gz', sep=\"\\t\", encoding=\"latin1\")"
   ]
  },
  {
   "cell_type": "code",
   "execution_count": 5,
   "metadata": {
    "scrolled": true
   },
   "outputs": [
    {
     "data": {
      "text/plain": [
       "dict_keys(['crew', 'movies', 'akas', 'ratings', 'name_basics', 'title_basics', 'movie_budgets', 'movie_gross', 'principals', 'movie_info', 'reviews'])"
      ]
     },
     "execution_count": 5,
     "metadata": {},
     "output_type": "execute_result"
    }
   ],
   "source": [
    "data.keys()"
   ]
  },
  {
   "cell_type": "code",
   "execution_count": 126,
   "metadata": {},
   "outputs": [
    {
     "data": {
      "text/plain": [
       "Steven Spielberg                 10\n",
       "Clint Eastwood                    8\n",
       "William Beaudine                  4\n",
       "Woody Allen                       4\n",
       "Curtis Hanson                     4\n",
       "                                 ..\n",
       "John Irvin                        1\n",
       "Bob Rafelson|George Bud Davis     1\n",
       "Michael Goldenberg                1\n",
       "Stephen Frears                    1\n",
       "Luca Guadagnino                   1\n",
       "Name: director, Length: 1125, dtype: int64"
      ]
     },
     "execution_count": 126,
     "metadata": {},
     "output_type": "execute_result"
    }
   ],
   "source": [
    "import matplotlib.pyplot as plt\n",
    "%matplotlib inline\n",
    "\n",
    "data['movie_info'].director.value_counts()"
   ]
  },
  {
   "cell_type": "code",
   "execution_count": 52,
   "metadata": {
    "scrolled": false
   },
   "outputs": [],
   "source": [
    "data['title_basics'] = data['title_basics'].rename(columns={'primary_title':'title'})\n",
    "data['movie_budgets'] = data['movie_budgets'].rename(columns={'movie':'title'})"
   ]
  },
  {
   "cell_type": "code",
   "execution_count": 46,
   "metadata": {},
   "outputs": [],
   "source": [
    "#movies, akas, title_basics*, movie_budgets*, movie_gross, "
   ]
  },
  {
   "cell_type": "code",
   "execution_count": 88,
   "metadata": {},
   "outputs": [],
   "source": [
    "graphs = pd.merge(data['title_basics'],data['movie_gross'],on='title')"
   ]
  },
  {
   "cell_type": "code",
   "execution_count": 91,
   "metadata": {},
   "outputs": [
    {
     "data": {
      "text/html": [
       "<div>\n",
       "<style scoped>\n",
       "    .dataframe tbody tr th:only-of-type {\n",
       "        vertical-align: middle;\n",
       "    }\n",
       "\n",
       "    .dataframe tbody tr th {\n",
       "        vertical-align: top;\n",
       "    }\n",
       "\n",
       "    .dataframe thead th {\n",
       "        text-align: right;\n",
       "    }\n",
       "</style>\n",
       "<table border=\"1\" class=\"dataframe\">\n",
       "  <thead>\n",
       "    <tr style=\"text-align: right;\">\n",
       "      <th></th>\n",
       "      <th>start_year</th>\n",
       "      <th>runtime_minutes</th>\n",
       "      <th>domestic_gross</th>\n",
       "      <th>year</th>\n",
       "    </tr>\n",
       "  </thead>\n",
       "  <tbody>\n",
       "    <tr>\n",
       "      <th>start_year</th>\n",
       "      <td>1.000000</td>\n",
       "      <td>0.018860</td>\n",
       "      <td>0.019841</td>\n",
       "      <td>0.695921</td>\n",
       "    </tr>\n",
       "    <tr>\n",
       "      <th>runtime_minutes</th>\n",
       "      <td>0.018860</td>\n",
       "      <td>1.000000</td>\n",
       "      <td>0.105831</td>\n",
       "      <td>0.029233</td>\n",
       "    </tr>\n",
       "    <tr>\n",
       "      <th>domestic_gross</th>\n",
       "      <td>0.019841</td>\n",
       "      <td>0.105831</td>\n",
       "      <td>1.000000</td>\n",
       "      <td>0.008990</td>\n",
       "    </tr>\n",
       "    <tr>\n",
       "      <th>year</th>\n",
       "      <td>0.695921</td>\n",
       "      <td>0.029233</td>\n",
       "      <td>0.008990</td>\n",
       "      <td>1.000000</td>\n",
       "    </tr>\n",
       "  </tbody>\n",
       "</table>\n",
       "</div>"
      ],
      "text/plain": [
       "                 start_year  runtime_minutes  domestic_gross      year\n",
       "start_year         1.000000         0.018860        0.019841  0.695921\n",
       "runtime_minutes    0.018860         1.000000        0.105831  0.029233\n",
       "domestic_gross     0.019841         0.105831        1.000000  0.008990\n",
       "year               0.695921         0.029233        0.008990  1.000000"
      ]
     },
     "execution_count": 91,
     "metadata": {},
     "output_type": "execute_result"
    }
   ],
   "source": [
    "graphs.corr()"
   ]
  },
  {
   "cell_type": "code",
   "execution_count": null,
   "metadata": {},
   "outputs": [],
   "source": []
  }
 ],
 "metadata": {
  "kernelspec": {
   "display_name": "Python 3",
   "language": "python",
   "name": "python3"
  },
  "language_info": {
   "codemirror_mode": {
    "name": "ipython",
    "version": 3
   },
   "file_extension": ".py",
   "mimetype": "text/x-python",
   "name": "python",
   "nbconvert_exporter": "python",
   "pygments_lexer": "ipython3",
   "version": "3.6.9"
  }
 },
 "nbformat": 4,
 "nbformat_minor": 4
}
