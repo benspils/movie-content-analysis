{
 "cells": [
  {
   "cell_type": "code",
   "execution_count": 47,
   "metadata": {},
   "outputs": [],
   "source": [
    "import os\n",
    "import pandas as pd "
   ]
  },
  {
   "cell_type": "code",
   "execution_count": 48,
   "metadata": {
    "scrolled": false
   },
   "outputs": [
    {
     "data": {
      "text/plain": [
       "['data/zippedData/imdb.title.crew.csv.gz',\n",
       " 'data/zippedData/tmdb.movies.csv.gz',\n",
       " 'data/zippedData/imdb.title.akas.csv.gz',\n",
       " 'data/zippedData/imdb.title.ratings.csv.gz',\n",
       " 'data/zippedData/imdb.name.basics.csv.gz',\n",
       " 'data/zippedData/rt.reviews.tsv.gz',\n",
       " 'data/zippedData/imdb.title.basics.csv.gz',\n",
       " 'data/zippedData/rt.movie_info.tsv.gz',\n",
       " 'data/zippedData/tn.movie_budgets.csv.gz',\n",
       " 'data/zippedData/bom.movie_gross.csv.gz',\n",
       " 'data/zippedData/imdb.title.principals.csv.gz']"
      ]
     },
     "execution_count": 48,
     "metadata": {},
     "output_type": "execute_result"
    }
   ],
   "source": [
    "data_path = os.path.join('data','zippedData')\n",
    "data_files = os.listdir(data_path)\n",
    "data_files.pop(data_files.index('.ipynb_checkpoints'))\n",
    "data_files.pop(data_files.index('Untitled.ipynb'))\n",
    "data_files = [os.path.join(data_path,file) for file in data_files]\n",
    "data_files"
   ]
  },
  {
   "cell_type": "code",
   "execution_count": 101,
   "metadata": {},
   "outputs": [
    {
     "name": "stdout",
     "output_type": "stream",
     "text": [
      "data/zippedData/rt.reviews.tsv.gz\n",
      "data/zippedData/rt.movie_info.tsv.gz\n"
     ]
    }
   ],
   "source": [
    "data = {}\n",
    "name_dict={'imdb.title.crew.csv.gz':\"crew\",\n",
    "           'tmdb.movies.csv.gz':\"movies\",\n",
    "           'imdb.title.akas.csv.gz':\"akas\",\n",
    "           'imdb.title.ratings.csv.gz':\"ratings\",\n",
    "           'imdb.name.basics.csv.gz':\"name_basics\",\n",
    "           'rt.reviews.tsv.gz':\"reviews\",\n",
    "           'imdb.title.basics.csv.gz':\"title_basics\",\n",
    "           'rt.movie_info.tsv.gz':\"movie_info\",\n",
    "           'tn.movie_budgets.csv.gz':\"movie_budgets\",\n",
    "           'bom.movie_gross.csv.gz':\"movie_gross\",\n",
    "           'imdb.title.principals.csv.gz':\"principals\"\n",
    "          }\n",
    "for file in data_files:\n",
    "    try:\n",
    "        df = pd.read_csv(file)\n",
    "    except:\n",
    "        print(file)\n",
    "        continue\n",
    "    file_name = file.split('/')[-1]\n",
    "    data[name_dict[file_name]] = df\n",
    "    \n",
    "data[\"movie_info\"]=pd.read_csv('data/zippedData/rt.movie_info.tsv.gz', sep=\"\\t\")\n",
    "data[\"reviews\"]=pd.read_csv('data/zippedData/rt.reviews.tsv.gz', sep=\"\\t\", encoding=\"latin1\")"
   ]
  },
  {
   "cell_type": "code",
   "execution_count": 102,
   "metadata": {
    "scrolled": true
   },
   "outputs": [
    {
     "data": {
      "text/plain": [
       "dict_keys(['crew', 'movies', 'akas', 'ratings', 'name_basics', 'title_basics', 'movie_budgets', 'movie_gross', 'principals', 'movie_info', 'reviews'])"
      ]
     },
     "execution_count": 102,
     "metadata": {},
     "output_type": "execute_result"
    }
   ],
   "source": [
    "data.keys()"
   ]
  },
  {
   "cell_type": "code",
   "execution_count": 162,
   "metadata": {
    "scrolled": false
   },
   "outputs": [
    {
     "data": {
      "text/html": [
       "<div>\n",
       "<style scoped>\n",
       "    .dataframe tbody tr th:only-of-type {\n",
       "        vertical-align: middle;\n",
       "    }\n",
       "\n",
       "    .dataframe tbody tr th {\n",
       "        vertical-align: top;\n",
       "    }\n",
       "\n",
       "    .dataframe thead th {\n",
       "        text-align: right;\n",
       "    }\n",
       "</style>\n",
       "<table border=\"1\" class=\"dataframe\">\n",
       "  <thead>\n",
       "    <tr style=\"text-align: right;\">\n",
       "      <th></th>\n",
       "      <th>nconst</th>\n",
       "      <th>primary_name</th>\n",
       "      <th>birth_year</th>\n",
       "      <th>death_year</th>\n",
       "      <th>primary_profession</th>\n",
       "      <th>known_for_titles</th>\n",
       "    </tr>\n",
       "  </thead>\n",
       "  <tbody>\n",
       "    <tr>\n",
       "      <th>0</th>\n",
       "      <td>nm0061671</td>\n",
       "      <td>Mary Ellen Bauder</td>\n",
       "      <td>NaN</td>\n",
       "      <td>NaN</td>\n",
       "      <td>miscellaneous,production_manager,producer</td>\n",
       "      <td>tt0837562,tt2398241,tt0844471,tt0118553</td>\n",
       "    </tr>\n",
       "    <tr>\n",
       "      <th>1</th>\n",
       "      <td>nm0061865</td>\n",
       "      <td>Joseph Bauer</td>\n",
       "      <td>NaN</td>\n",
       "      <td>NaN</td>\n",
       "      <td>composer,music_department,sound_department</td>\n",
       "      <td>tt0896534,tt6791238,tt0287072,tt1682940</td>\n",
       "    </tr>\n",
       "    <tr>\n",
       "      <th>2</th>\n",
       "      <td>nm0062070</td>\n",
       "      <td>Bruce Baum</td>\n",
       "      <td>NaN</td>\n",
       "      <td>NaN</td>\n",
       "      <td>miscellaneous,actor,writer</td>\n",
       "      <td>tt1470654,tt0363631,tt0104030,tt0102898</td>\n",
       "    </tr>\n",
       "    <tr>\n",
       "      <th>3</th>\n",
       "      <td>nm0062195</td>\n",
       "      <td>Axel Baumann</td>\n",
       "      <td>NaN</td>\n",
       "      <td>NaN</td>\n",
       "      <td>camera_department,cinematographer,art_department</td>\n",
       "      <td>tt0114371,tt2004304,tt1618448,tt1224387</td>\n",
       "    </tr>\n",
       "    <tr>\n",
       "      <th>4</th>\n",
       "      <td>nm0062798</td>\n",
       "      <td>Pete Baxter</td>\n",
       "      <td>NaN</td>\n",
       "      <td>NaN</td>\n",
       "      <td>production_designer,art_department,set_decorator</td>\n",
       "      <td>tt0452644,tt0452692,tt3458030,tt2178256</td>\n",
       "    </tr>\n",
       "  </tbody>\n",
       "</table>\n",
       "</div>"
      ],
      "text/plain": [
       "      nconst       primary_name  birth_year  death_year  \\\n",
       "0  nm0061671  Mary Ellen Bauder         NaN         NaN   \n",
       "1  nm0061865       Joseph Bauer         NaN         NaN   \n",
       "2  nm0062070         Bruce Baum         NaN         NaN   \n",
       "3  nm0062195       Axel Baumann         NaN         NaN   \n",
       "4  nm0062798        Pete Baxter         NaN         NaN   \n",
       "\n",
       "                                 primary_profession  \\\n",
       "0         miscellaneous,production_manager,producer   \n",
       "1        composer,music_department,sound_department   \n",
       "2                        miscellaneous,actor,writer   \n",
       "3  camera_department,cinematographer,art_department   \n",
       "4  production_designer,art_department,set_decorator   \n",
       "\n",
       "                          known_for_titles  \n",
       "0  tt0837562,tt2398241,tt0844471,tt0118553  \n",
       "1  tt0896534,tt6791238,tt0287072,tt1682940  \n",
       "2  tt1470654,tt0363631,tt0104030,tt0102898  \n",
       "3  tt0114371,tt2004304,tt1618448,tt1224387  \n",
       "4  tt0452644,tt0452692,tt3458030,tt2178256  "
      ]
     },
     "execution_count": 162,
     "metadata": {},
     "output_type": "execute_result"
    }
   ],
   "source": [
    "data['name_basics'].head()"
   ]
  },
  {
   "cell_type": "code",
   "execution_count": 168,
   "metadata": {
    "scrolled": true
   },
   "outputs": [
    {
     "data": {
      "text/plain": [
       "[('crew', ['tconst', 'directors', 'writers'], [146144, 140417, 110261]),\n",
       " ('movies',\n",
       "  ['Unnamed: 0',\n",
       "   'genre_ids',\n",
       "   'id',\n",
       "   'original_language',\n",
       "   'original_title',\n",
       "   'popularity',\n",
       "   'release_date',\n",
       "   'title',\n",
       "   'vote_average',\n",
       "   'vote_count'],\n",
       "  [26517, 26517, 26517, 26517, 26517, 26517, 26517, 26517, 26517, 26517]),\n",
       " ('akas',\n",
       "  ['title_id',\n",
       "   'ordering',\n",
       "   'title',\n",
       "   'region',\n",
       "   'language',\n",
       "   'types',\n",
       "   'attributes',\n",
       "   'is_original_title'],\n",
       "  [331703, 331703, 331703, 278410, 41715, 168447, 14925, 331678]),\n",
       " ('ratings', ['tconst', 'averagerating', 'numvotes'], [73856, 73856, 73856]),\n",
       " ('name_basics',\n",
       "  ['nconst',\n",
       "   'primary_name',\n",
       "   'birth_year',\n",
       "   'death_year',\n",
       "   'primary_profession',\n",
       "   'known_for_titles'],\n",
       "  [606648, 606648, 82736, 6783, 555308, 576444]),\n",
       " ('title_basics',\n",
       "  ['tconst',\n",
       "   'primary_title',\n",
       "   'original_title',\n",
       "   'start_year',\n",
       "   'runtime_minutes',\n",
       "   'genres'],\n",
       "  [146144, 146144, 146123, 146144, 114405, 140736]),\n",
       " ('movie_budgets',\n",
       "  ['id',\n",
       "   'release_date',\n",
       "   'movie',\n",
       "   'production_budget',\n",
       "   'domestic_gross',\n",
       "   'worldwide_gross'],\n",
       "  [5782, 5782, 5782, 5782, 5782, 5782]),\n",
       " ('movie_gross',\n",
       "  ['title', 'studio', 'domestic_gross', 'foreign_gross', 'year'],\n",
       "  [3387, 3382, 3359, 2037, 3387]),\n",
       " ('principals',\n",
       "  ['tconst', 'ordering', 'nconst', 'category', 'job', 'characters'],\n",
       "  [1028186, 1028186, 1028186, 1028186, 177684, 393360]),\n",
       " ('movie_info',\n",
       "  ['id',\n",
       "   'synopsis',\n",
       "   'rating',\n",
       "   'genre',\n",
       "   'director',\n",
       "   'writer',\n",
       "   'theater_date',\n",
       "   'dvd_date',\n",
       "   'currency',\n",
       "   'box_office',\n",
       "   'runtime',\n",
       "   'studio'],\n",
       "  [1560, 1498, 1557, 1552, 1361, 1111, 1201, 1201, 340, 340, 1530, 494]),\n",
       " ('reviews',\n",
       "  ['id',\n",
       "   'review',\n",
       "   'rating',\n",
       "   'fresh',\n",
       "   'critic',\n",
       "   'top_critic',\n",
       "   'publisher',\n",
       "   'date'],\n",
       "  [54432, 48869, 40915, 54432, 51710, 54432, 54123, 54432])]"
      ]
     },
     "execution_count": 168,
     "metadata": {},
     "output_type": "execute_result"
    }
   ],
   "source": [
    "data_columns=list(map(lambda x: (x, list(data[x].columns), list(data[x][data[x].columns].count())), data.keys()))\n",
    "data_columns"
   ]
  },
  {
   "cell_type": "code",
   "execution_count": null,
   "metadata": {},
   "outputs": [],
   "source": []
  }
 ],
 "metadata": {
  "kernelspec": {
   "display_name": "Python 3",
   "language": "python",
   "name": "python3"
  },
  "language_info": {
   "codemirror_mode": {
    "name": "ipython",
    "version": 3
   },
   "file_extension": ".py",
   "mimetype": "text/x-python",
   "name": "python",
   "nbconvert_exporter": "python",
   "pygments_lexer": "ipython3",
   "version": "3.6.9"
  }
 },
 "nbformat": 4,
 "nbformat_minor": 4
}
